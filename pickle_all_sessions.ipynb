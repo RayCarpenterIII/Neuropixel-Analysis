{
 "cells": [
  {
   "cell_type": "code",
   "execution_count": 5,
   "id": "18288bfb-04bd-494d-a97f-846ad35276ec",
   "metadata": {},
   "outputs": [
    {
     "name": "stdout",
     "output_type": "stream",
     "text": [
      "CUDA GPU is available.\n",
      "Current GPU device: NVIDIA A100-PCIE-40GB MIG 2g.10gb\n",
      "Total RAM: 1006.92 GB\n",
      "Available RAM: 944.93 GB\n",
      "Using existing manifest.json file.\n",
      "Session keys:\n",
      "[715093703, 719161530, 721123822, 732592105, 737581020, 739448407, 742951821, 743475441, 744228101, 746083955, 750332458, 750749662, 751348571, 754312389, 754829445, 755434585, 756029989, 757216464, 757970808, 758798717, 759883607, 760345702, 760693773, 761418226, 762120172, 762602078, 763673393, 766640955, 767871931, 768515987, 771160300, 771990200, 773418906, 774875821, 778240327, 778998620, 779839471, 781842082, 786091066, 787025148, 789848216, 791319847, 793224716, 794812542, 797828357, 798911424, 799864342, 816200189, 819186360, 819701982, 821695405, 829720705, 831882777, 835479236, 839068429, 839557629, 840012044, 847657808]\n"
     ]
    }
   ],
   "source": [
    "# Setup Environment\n",
    "import numpy as np\n",
    "import pandas as pd\n",
    "from tqdm import tqdm\n",
    "import os\n",
    "import psutil\n",
    "import time\n",
    "from pathlib import Path\n",
    "import matplotlib.pyplot as plt\n",
    "import matplotlib.patches as patches\n",
    "from mpl_toolkits.mplot3d import Axes3D\n",
    "from sklearn.svm import SVR\n",
    "from sklearn.manifold import TSNE\n",
    "from sklearn.model_selection import train_test_split\n",
    "from sklearn.inspection import permutation_importance\n",
    "from sklearn.preprocessing import LabelEncoder\n",
    "import torch\n",
    "import seaborn as sns\n",
    "import pickle\n",
    "from torch_geometric.data import Data\n",
    "from torch_geometric.nn import GCNConv, GATConv, GATv2Conv\n",
    "from torch.nn import Linear\n",
    "from torch.utils.data import DataLoader\n",
    "import torch.nn as nn\n",
    "import torch.nn.functional as F\n",
    "import concurrent.futures\n",
    "from concurrent.futures import ProcessPoolExecutor\n",
    "\n",
    "if torch.cuda.is_available():\n",
    "    print(\"CUDA GPU is available.\")\n",
    "    device = torch.device('cuda')\n",
    "else:\n",
    "    print(\"CUDA GPU is not available. Using CPU instead.\")\n",
    "    device = torch.device('cpu')\n",
    "    \n",
    "print(f\"Current GPU device: {torch.cuda.get_device_name(torch.cuda.current_device())}\")\n",
    "print(f\"Total RAM: {(psutil.virtual_memory().total / (1024**3)):.2f} GB\")\n",
    "print(f\"Available RAM: {(psutil.virtual_memory().available / (1024**3)):.2f} GB\")\n",
    "\n",
    "from allensdk.core.brain_observatory_cache import BrainObservatoryCache\n",
    "from allensdk.brain_observatory.ecephys.ecephys_project_cache import EcephysProjectCache \n",
    "\n",
    "# Set output directory to a new folder called 'output' in the current working directory\n",
    "output_dir = os.path.join(os.getcwd(), 'output')\n",
    "\n",
    "# Check if the output directory exists, and create it if it doesn't\n",
    "if not os.path.exists(output_dir):\n",
    "    os.makedirs(output_dir)\n",
    "\n",
    "# Set DOWNLOAD_COMPLETE_DATASET to True\n",
    "DOWNLOAD_COMPLETE_DATASET = True\n",
    "\n",
    "# Create a file path to the manifest.json file within the output directory\n",
    "manifest_path = os.path.join(output_dir, \"manifest.json\")\n",
    "\n",
    "# Check if the manifest.json file exists\n",
    "if os.path.exists(manifest_path):\n",
    "    print(\"Using existing manifest.json file.\")\n",
    "else:\n",
    "    print(\"Creating a new manifest.json file.\")\n",
    "\n",
    "# Create an instance of the EcephysProjectCache class with the manifest file path as argument\n",
    "cache = EcephysProjectCache(manifest=manifest_path)\n",
    "# Get session table\n",
    "session_table = cache.get_session_table()\n",
    "\n",
    "# Display session keys\n",
    "session_keys = []\n",
    "print(\"Session keys:\")\n",
    "for session_key in session_table.index:\n",
    "    session_keys.append(session_key)\n",
    "print(session_keys)"
   ]
  },
  {
   "cell_type": "code",
   "execution_count": 6,
   "id": "018f4a85-fc07-462a-99f3-16807388de3b",
   "metadata": {},
   "outputs": [],
   "source": [
    "sessions = [816200189, 819186360, 819701982, 821695405, 829720705, 831882777, 835479236, 839068429, 839557629, 840012044, 847657808]"
   ]
  },
  {
   "cell_type": "code",
   "execution_count": 7,
   "id": "2d51b824-903d-472a-b48e-40de68ee853b",
   "metadata": {},
   "outputs": [
    {
     "name": "stderr",
     "output_type": "stream",
     "text": [
      "WARNING:root:downloading a 2506.115MiB file from http://api.brain-map.org//api/v2/well_known_file_download/1026124405\n"
     ]
    },
    {
     "data": {
      "application/vnd.jupyter.widget-view+json": {
       "model_id": "9c1d044456f840d796b0acfe119b1cb1",
       "version_major": 2,
       "version_minor": 0
      },
      "text/plain": [
       "Downloading:   0%|          | 0.00/2.63G [00:00<?, ?B/s]"
      ]
     },
     "metadata": {},
     "output_type": "display_data"
    },
    {
     "name": "stderr",
     "output_type": "stream",
     "text": [
      "/nas/longleaf/home/rayrayc/.local/lib/python3.10/site-packages/hdmf/utils.py:668: UserWarning: Ignoring cached namespace 'hdmf-common' version 1.1.3 because version 1.8.0 is already loaded.\n",
      "  return func(args[0], **pargs)\n",
      "/nas/longleaf/home/rayrayc/.local/lib/python3.10/site-packages/hdmf/utils.py:668: UserWarning: Ignoring cached namespace 'core' version 2.2.2 because version 2.7.0 is already loaded.\n",
      "  return func(args[0], **pargs)\n"
     ]
    },
    {
     "name": "stdout",
     "output_type": "stream",
     "text": [
      "Unique stimuli in session 787025148: ['spontaneous' 'gabors' 'flashes' 'drifting_gratings_contrast'\n",
      " 'natural_movie_one_more_repeats' 'natural_movie_one_shuffled'\n",
      " 'drifting_gratings_75_repeats' 'dot_motion']\n",
      "Skipping session 787025148 as it does not contain natural scenes.\n"
     ]
    },
    {
     "name": "stderr",
     "output_type": "stream",
     "text": [
      "WARNING:root:downloading a 1789.008MiB file from http://api.brain-map.org//api/v2/well_known_file_download/1026123847\n"
     ]
    },
    {
     "data": {
      "application/vnd.jupyter.widget-view+json": {
       "model_id": "55740852d6394148ba514d02d5728cd1",
       "version_major": 2,
       "version_minor": 0
      },
      "text/plain": [
       "Downloading:   0%|          | 0.00/1.88G [00:00<?, ?B/s]"
      ]
     },
     "metadata": {},
     "output_type": "display_data"
    },
    {
     "name": "stdout",
     "output_type": "stream",
     "text": [
      "Unique stimuli in session 789848216: ['spontaneous' 'gabors' 'flashes' 'drifting_gratings_contrast'\n",
      " 'natural_movie_one_more_repeats' 'natural_movie_one_shuffled'\n",
      " 'drifting_gratings_75_repeats' 'dot_motion']\n",
      "Skipping session 789848216 as it does not contain natural scenes.\n"
     ]
    },
    {
     "name": "stderr",
     "output_type": "stream",
     "text": [
      "WARNING:root:downloading a 2210.106MiB file from http://api.brain-map.org//api/v2/well_known_file_download/1026124645\n"
     ]
    },
    {
     "data": {
      "application/vnd.jupyter.widget-view+json": {
       "model_id": "026441eadf734fd28e4909eb2f3b3540",
       "version_major": 2,
       "version_minor": 0
      },
      "text/plain": [
       "Downloading:   0%|          | 0.00/2.32G [00:00<?, ?B/s]"
      ]
     },
     "metadata": {},
     "output_type": "display_data"
    },
    {
     "name": "stdout",
     "output_type": "stream",
     "text": [
      "Unique stimuli in session 791319847: ['spontaneous' 'gabors' 'flashes' 'drifting_gratings'\n",
      " 'natural_movie_three' 'natural_movie_one' 'static_gratings'\n",
      " 'natural_scenes' 'drifting_gratings_contrast']\n",
      "Session objects\n",
      "['DETAILED_STIMULUS_PARAMETERS', 'LazyProperty', 'age_in_days', 'api', 'channel_structure_intervals', 'channels', 'conditionwise_spike_statistics', 'ecephys_session_id', 'from_nwb_path', 'full_genotype', 'get_current_source_density', 'get_inter_presentation_intervals_for_stimulus', 'get_invalid_times', 'get_lfp', 'get_parameter_values_for_stimulus', 'get_pupil_data', 'get_screen_gaze_data', 'get_stimulus_epochs', 'get_stimulus_parameter_values', 'get_stimulus_table', 'inter_presentation_intervals', 'invalid_times', 'mean_waveforms', 'metadata', 'num_channels', 'num_probes', 'num_stimulus_presentations', 'num_units', 'optogenetic_stimulation_epochs', 'presentationwise_spike_counts', 'presentationwise_spike_times', 'probes', 'rig_equipment_name', 'rig_geometry_data', 'running_speed', 'session_start_time', 'session_type', 'sex', 'specimen_name', 'spike_amplitudes', 'spike_times', 'stimulus_conditions', 'stimulus_names', 'stimulus_presentations', 'structure_acronyms', 'structurewise_unit_counts', 'units']\n"
     ]
    },
    {
     "name": "stderr",
     "output_type": "stream",
     "text": [
      "Filtering valid spike times: 100%|██████████| 1445/1445 [00:00<00:00, 7787.27it/s]\n",
      "Processing neurons: 100%|██████████| 1445/1445 [06:37<00:00,  3.63it/s]\n",
      "WARNING:root:downloading a 2563.556MiB file from http://api.brain-map.org//api/v2/well_known_file_download/1026124545\n"
     ]
    },
    {
     "data": {
      "application/vnd.jupyter.widget-view+json": {
       "model_id": "077156415e5444a795b495612f5d84b3",
       "version_major": 2,
       "version_minor": 0
      },
      "text/plain": [
       "Downloading:   0%|          | 0.00/2.69G [00:00<?, ?B/s]"
      ]
     },
     "metadata": {},
     "output_type": "display_data"
    },
    {
     "name": "stdout",
     "output_type": "stream",
     "text": [
      "Unique stimuli in session 793224716: ['spontaneous' 'gabors' 'flashes' 'drifting_gratings_contrast'\n",
      " 'natural_movie_one_more_repeats' 'invalid_presentation'\n",
      " 'natural_movie_one_shuffled' 'drifting_gratings_75_repeats' 'dot_motion']\n",
      "Skipping session 793224716 as it does not contain natural scenes.\n"
     ]
    },
    {
     "name": "stderr",
     "output_type": "stream",
     "text": [
      "WARNING:root:downloading a 2469.206MiB file from http://api.brain-map.org//api/v2/well_known_file_download/1026124759\n"
     ]
    },
    {
     "data": {
      "application/vnd.jupyter.widget-view+json": {
       "model_id": "1c77be4f8b5b404a86efe123fbf8c5bc",
       "version_major": 2,
       "version_minor": 0
      },
      "text/plain": [
       "Downloading:   0%|          | 0.00/2.59G [00:00<?, ?B/s]"
      ]
     },
     "metadata": {},
     "output_type": "display_data"
    },
    {
     "name": "stdout",
     "output_type": "stream",
     "text": [
      "Unique stimuli in session 794812542: ['spontaneous' 'gabors' 'flashes' 'drifting_gratings_contrast'\n",
      " 'natural_movie_one_more_repeats' 'natural_movie_one_shuffled'\n",
      " 'drifting_gratings_75_repeats' 'dot_motion']\n",
      "Skipping session 794812542 as it does not contain natural scenes.\n"
     ]
    },
    {
     "name": "stderr",
     "output_type": "stream",
     "text": [
      "WARNING:root:downloading a 2427.749MiB file from http://api.brain-map.org//api/v2/well_known_file_download/1026124804\n"
     ]
    },
    {
     "data": {
      "application/vnd.jupyter.widget-view+json": {
       "model_id": "3bac95aca0d84b89a9c4512884ecd38f",
       "version_major": 2,
       "version_minor": 0
      },
      "text/plain": [
       "Downloading:   0%|          | 0.00/2.55G [00:00<?, ?B/s]"
      ]
     },
     "metadata": {},
     "output_type": "display_data"
    },
    {
     "name": "stdout",
     "output_type": "stream",
     "text": [
      "Unique stimuli in session 797828357: ['spontaneous' 'gabors' 'flashes' 'drifting_gratings'\n",
      " 'natural_movie_three' 'natural_movie_one' 'static_gratings'\n",
      " 'natural_scenes' 'drifting_gratings_contrast']\n",
      "Session objects\n",
      "['DETAILED_STIMULUS_PARAMETERS', 'LazyProperty', 'age_in_days', 'api', 'channel_structure_intervals', 'channels', 'conditionwise_spike_statistics', 'ecephys_session_id', 'from_nwb_path', 'full_genotype', 'get_current_source_density', 'get_inter_presentation_intervals_for_stimulus', 'get_invalid_times', 'get_lfp', 'get_parameter_values_for_stimulus', 'get_pupil_data', 'get_screen_gaze_data', 'get_stimulus_epochs', 'get_stimulus_parameter_values', 'get_stimulus_table', 'inter_presentation_intervals', 'invalid_times', 'mean_waveforms', 'metadata', 'num_channels', 'num_probes', 'num_stimulus_presentations', 'num_units', 'optogenetic_stimulation_epochs', 'presentationwise_spike_counts', 'presentationwise_spike_times', 'probes', 'rig_equipment_name', 'rig_geometry_data', 'running_speed', 'session_start_time', 'session_type', 'sex', 'specimen_name', 'spike_amplitudes', 'spike_times', 'stimulus_conditions', 'stimulus_names', 'stimulus_presentations', 'structure_acronyms', 'structurewise_unit_counts', 'units']\n"
     ]
    },
    {
     "name": "stderr",
     "output_type": "stream",
     "text": [
      "Filtering valid spike times: 100%|██████████| 1610/1610 [00:01<00:00, 1586.44it/s]\n",
      "Processing neurons: 100%|██████████| 1610/1610 [06:41<00:00,  4.01it/s]  \n",
      "WARNING:root:downloading a 2731.587MiB file from http://api.brain-map.org//api/v2/well_known_file_download/1026124743\n"
     ]
    },
    {
     "data": {
      "application/vnd.jupyter.widget-view+json": {
       "model_id": "0bc9a0a2f1b5477d9f65a9c59ce60dff",
       "version_major": 2,
       "version_minor": 0
      },
      "text/plain": [
       "Downloading:   0%|          | 0.00/2.86G [00:00<?, ?B/s]"
      ]
     },
     "metadata": {},
     "output_type": "display_data"
    },
    {
     "name": "stdout",
     "output_type": "stream",
     "text": [
      "Unique stimuli in session 798911424: ['spontaneous' 'gabors' 'flashes' 'drifting_gratings'\n",
      " 'natural_movie_three' 'natural_movie_one' 'static_gratings'\n",
      " 'natural_scenes' 'drifting_gratings_contrast']\n",
      "Session objects\n",
      "['DETAILED_STIMULUS_PARAMETERS', 'LazyProperty', 'age_in_days', 'api', 'channel_structure_intervals', 'channels', 'conditionwise_spike_statistics', 'ecephys_session_id', 'from_nwb_path', 'full_genotype', 'get_current_source_density', 'get_inter_presentation_intervals_for_stimulus', 'get_invalid_times', 'get_lfp', 'get_parameter_values_for_stimulus', 'get_pupil_data', 'get_screen_gaze_data', 'get_stimulus_epochs', 'get_stimulus_parameter_values', 'get_stimulus_table', 'inter_presentation_intervals', 'invalid_times', 'mean_waveforms', 'metadata', 'num_channels', 'num_probes', 'num_stimulus_presentations', 'num_units', 'optogenetic_stimulation_epochs', 'presentationwise_spike_counts', 'presentationwise_spike_times', 'probes', 'rig_equipment_name', 'rig_geometry_data', 'running_speed', 'session_start_time', 'session_type', 'sex', 'specimen_name', 'spike_amplitudes', 'spike_times', 'stimulus_conditions', 'stimulus_names', 'stimulus_presentations', 'structure_acronyms', 'structurewise_unit_counts', 'units']\n"
     ]
    },
    {
     "name": "stderr",
     "output_type": "stream",
     "text": [
      "Filtering valid spike times: 100%|██████████| 1878/1878 [00:00<00:00, 4025.92it/s]\n",
      "Processing neurons: 100%|██████████| 1878/1878 [07:23<00:00,  4.24it/s] \n",
      "WARNING:root:downloading a 2611.142MiB file from http://api.brain-map.org//api/v2/well_known_file_download/1026125021\n"
     ]
    },
    {
     "data": {
      "application/vnd.jupyter.widget-view+json": {
       "model_id": "ef8dd22a7aa34bec90e92df22ed70cf1",
       "version_major": 2,
       "version_minor": 0
      },
      "text/plain": [
       "Downloading:   0%|          | 0.00/2.74G [00:00<?, ?B/s]"
      ]
     },
     "metadata": {},
     "output_type": "display_data"
    },
    {
     "name": "stdout",
     "output_type": "stream",
     "text": [
      "Unique stimuli in session 799864342: ['spontaneous' 'gabors' 'flashes' 'drifting_gratings'\n",
      " 'natural_movie_three' 'natural_movie_one' 'static_gratings'\n",
      " 'natural_scenes' 'drifting_gratings_contrast']\n",
      "Session objects\n",
      "['DETAILED_STIMULUS_PARAMETERS', 'LazyProperty', 'age_in_days', 'api', 'channel_structure_intervals', 'channels', 'conditionwise_spike_statistics', 'ecephys_session_id', 'from_nwb_path', 'full_genotype', 'get_current_source_density', 'get_inter_presentation_intervals_for_stimulus', 'get_invalid_times', 'get_lfp', 'get_parameter_values_for_stimulus', 'get_pupil_data', 'get_screen_gaze_data', 'get_stimulus_epochs', 'get_stimulus_parameter_values', 'get_stimulus_table', 'inter_presentation_intervals', 'invalid_times', 'mean_waveforms', 'metadata', 'num_channels', 'num_probes', 'num_stimulus_presentations', 'num_units', 'optogenetic_stimulation_epochs', 'presentationwise_spike_counts', 'presentationwise_spike_times', 'probes', 'rig_equipment_name', 'rig_geometry_data', 'running_speed', 'session_start_time', 'session_type', 'sex', 'specimen_name', 'spike_amplitudes', 'spike_times', 'stimulus_conditions', 'stimulus_names', 'stimulus_presentations', 'structure_acronyms', 'structurewise_unit_counts', 'units']\n"
     ]
    },
    {
     "name": "stderr",
     "output_type": "stream",
     "text": [
      "Filtering valid spike times: 100%|██████████| 1551/1551 [00:00<00:00, 3983.60it/s]\n",
      "Processing neurons: 100%|██████████| 1551/1551 [06:42<00:00,  3.86it/s]\n",
      "WARNING:root:downloading a 2332.979MiB file from http://api.brain-map.org//api/v2/well_known_file_download/1026124840\n"
     ]
    },
    {
     "data": {
      "application/vnd.jupyter.widget-view+json": {
       "model_id": "6b768199c32e48fba1e372513257e79b",
       "version_major": 2,
       "version_minor": 0
      },
      "text/plain": [
       "Downloading:   0%|          | 0.00/2.45G [00:00<?, ?B/s]"
      ]
     },
     "metadata": {},
     "output_type": "display_data"
    },
    {
     "name": "stdout",
     "output_type": "stream",
     "text": [
      "Unique stimuli in session 816200189: ['spontaneous' 'gabors' 'flashes' 'drifting_gratings_contrast'\n",
      " 'natural_movie_one_more_repeats' 'natural_movie_one_shuffled'\n",
      " 'drifting_gratings_75_repeats' 'dot_motion']\n",
      "Skipping session 816200189 as it does not contain natural scenes.\n"
     ]
    },
    {
     "name": "stderr",
     "output_type": "stream",
     "text": [
      "WARNING:root:downloading a 2241.979MiB file from http://api.brain-map.org//api/v2/well_known_file_download/1026124085\n"
     ]
    },
    {
     "data": {
      "application/vnd.jupyter.widget-view+json": {
       "model_id": "801e1df6710e466f812960afbab72cb3",
       "version_major": 2,
       "version_minor": 0
      },
      "text/plain": [
       "Downloading:   0%|          | 0.00/2.35G [00:00<?, ?B/s]"
      ]
     },
     "metadata": {},
     "output_type": "display_data"
    },
    {
     "name": "stdout",
     "output_type": "stream",
     "text": [
      "Unique stimuli in session 819186360: ['spontaneous' 'gabors' 'flashes' 'drifting_gratings_contrast'\n",
      " 'natural_movie_one_more_repeats' 'natural_movie_one_shuffled'\n",
      " 'drifting_gratings_75_repeats' 'dot_motion']\n",
      "Skipping session 819186360 as it does not contain natural scenes.\n"
     ]
    },
    {
     "name": "stderr",
     "output_type": "stream",
     "text": [
      "WARNING:root:downloading a 2405.091MiB file from http://api.brain-map.org//api/v2/well_known_file_download/1026124368\n"
     ]
    },
    {
     "data": {
      "application/vnd.jupyter.widget-view+json": {
       "model_id": "12bad73f04c3450bb9e884f4198f1e47",
       "version_major": 2,
       "version_minor": 0
      },
      "text/plain": [
       "Downloading:   0%|          | 0.00/2.52G [00:00<?, ?B/s]"
      ]
     },
     "metadata": {},
     "output_type": "display_data"
    },
    {
     "name": "stdout",
     "output_type": "stream",
     "text": [
      "Unique stimuli in session 819701982: ['spontaneous' 'gabors' 'flashes' 'drifting_gratings_contrast'\n",
      " 'natural_movie_one_more_repeats' 'natural_movie_one_shuffled'\n",
      " 'drifting_gratings_75_repeats' 'dot_motion']\n",
      "Skipping session 819701982 as it does not contain natural scenes.\n"
     ]
    },
    {
     "name": "stderr",
     "output_type": "stream",
     "text": [
      "WARNING:root:downloading a 1912.822MiB file from http://api.brain-map.org//api/v2/well_known_file_download/1026123824\n"
     ]
    },
    {
     "data": {
      "application/vnd.jupyter.widget-view+json": {
       "model_id": "c25e085fc33a4502a0769991163ec4bf",
       "version_major": 2,
       "version_minor": 0
      },
      "text/plain": [
       "Downloading:   0%|          | 0.00/2.01G [00:00<?, ?B/s]"
      ]
     },
     "metadata": {},
     "output_type": "display_data"
    },
    {
     "name": "stdout",
     "output_type": "stream",
     "text": [
      "Unique stimuli in session 821695405: ['spontaneous' 'gabors' 'flashes' 'drifting_gratings_contrast'\n",
      " 'natural_movie_one_more_repeats' 'natural_movie_one_shuffled'\n",
      " 'drifting_gratings_75_repeats' 'dot_motion']\n",
      "Skipping session 821695405 as it does not contain natural scenes.\n"
     ]
    },
    {
     "name": "stderr",
     "output_type": "stream",
     "text": [
      "WARNING:root:downloading a 1601.838MiB file from http://api.brain-map.org//api/v2/well_known_file_download/1026123625\n"
     ]
    },
    {
     "data": {
      "application/vnd.jupyter.widget-view+json": {
       "model_id": "5188b8a1686546b58890326e6e8d5dbc",
       "version_major": 2,
       "version_minor": 0
      },
      "text/plain": [
       "Downloading:   0%|          | 0.00/1.68G [00:00<?, ?B/s]"
      ]
     },
     "metadata": {},
     "output_type": "display_data"
    },
    {
     "name": "stdout",
     "output_type": "stream",
     "text": [
      "Unique stimuli in session 829720705: ['spontaneous' 'gabors' 'flashes' 'drifting_gratings_contrast'\n",
      " 'natural_movie_one_more_repeats' 'natural_movie_one_shuffled'\n",
      " 'drifting_gratings_75_repeats' 'dot_motion']\n",
      "Skipping session 829720705 as it does not contain natural scenes.\n"
     ]
    },
    {
     "name": "stderr",
     "output_type": "stream",
     "text": [
      "WARNING:root:downloading a 1988.647MiB file from http://api.brain-map.org//api/v2/well_known_file_download/1026123787\n"
     ]
    },
    {
     "data": {
      "application/vnd.jupyter.widget-view+json": {
       "model_id": "7c56c55348b348349c8a047ebd5c3449",
       "version_major": 2,
       "version_minor": 0
      },
      "text/plain": [
       "Downloading:   0%|          | 0.00/2.09G [00:00<?, ?B/s]"
      ]
     },
     "metadata": {},
     "output_type": "display_data"
    },
    {
     "name": "stdout",
     "output_type": "stream",
     "text": [
      "Unique stimuli in session 831882777: ['spontaneous' 'gabors' 'flashes' 'drifting_gratings_contrast'\n",
      " 'natural_movie_one_more_repeats' 'natural_movie_one_shuffled'\n",
      " 'drifting_gratings_75_repeats' 'dot_motion']\n",
      "Skipping session 831882777 as it does not contain natural scenes.\n"
     ]
    },
    {
     "name": "stderr",
     "output_type": "stream",
     "text": [
      "WARNING:root:downloading a 1912.961MiB file from http://api.brain-map.org//api/v2/well_known_file_download/1026123519\n"
     ]
    },
    {
     "data": {
      "application/vnd.jupyter.widget-view+json": {
       "model_id": "e78b00a009314d64a506c2f5a075ea25",
       "version_major": 2,
       "version_minor": 0
      },
      "text/plain": [
       "Downloading:   0%|          | 0.00/2.01G [00:00<?, ?B/s]"
      ]
     },
     "metadata": {},
     "output_type": "display_data"
    },
    {
     "name": "stdout",
     "output_type": "stream",
     "text": [
      "Unique stimuli in session 835479236: ['spontaneous' 'gabors' 'flashes' 'drifting_gratings_contrast'\n",
      " 'natural_movie_one_more_repeats' 'natural_movie_one_shuffled'\n",
      " 'drifting_gratings_75_repeats' 'dot_motion']\n",
      "Skipping session 835479236 as it does not contain natural scenes.\n"
     ]
    },
    {
     "name": "stderr",
     "output_type": "stream",
     "text": [
      "WARNING:root:downloading a 2692.640MiB file from http://api.brain-map.org//api/v2/well_known_file_download/1026123725\n"
     ]
    },
    {
     "data": {
      "application/vnd.jupyter.widget-view+json": {
       "model_id": "d8ffd32ca90c44dc996027273ae131a3",
       "version_major": 2,
       "version_minor": 0
      },
      "text/plain": [
       "Downloading:   0%|          | 0.00/2.82G [00:00<?, ?B/s]"
      ]
     },
     "metadata": {},
     "output_type": "display_data"
    },
    {
     "name": "stdout",
     "output_type": "stream",
     "text": [
      "Unique stimuli in session 839068429: ['spontaneous' 'gabors' 'flashes' 'drifting_gratings_contrast'\n",
      " 'natural_movie_one_more_repeats' 'natural_movie_one_shuffled'\n",
      " 'drifting_gratings_75_repeats' 'dot_motion']\n",
      "Skipping session 839068429 as it does not contain natural scenes.\n"
     ]
    },
    {
     "name": "stderr",
     "output_type": "stream",
     "text": [
      "WARNING:root:downloading a 1804.756MiB file from http://api.brain-map.org//api/v2/well_known_file_download/1026122596\n"
     ]
    },
    {
     "data": {
      "application/vnd.jupyter.widget-view+json": {
       "model_id": "72f2dfb065c9428fb710d83f09c7bc97",
       "version_major": 2,
       "version_minor": 0
      },
      "text/plain": [
       "Downloading:   0%|          | 0.00/1.89G [00:00<?, ?B/s]"
      ]
     },
     "metadata": {},
     "output_type": "display_data"
    },
    {
     "name": "stdout",
     "output_type": "stream",
     "text": [
      "Unique stimuli in session 839557629: ['spontaneous' 'gabors' 'flashes' 'drifting_gratings_contrast'\n",
      " 'natural_movie_one_more_repeats' 'natural_movie_one_shuffled'\n",
      " 'drifting_gratings_75_repeats' 'dot_motion']\n",
      "Skipping session 839557629 as it does not contain natural scenes.\n"
     ]
    },
    {
     "name": "stderr",
     "output_type": "stream",
     "text": [
      "WARNING:root:downloading a 2722.658MiB file from http://api.brain-map.org//api/v2/well_known_file_download/1026124422\n"
     ]
    },
    {
     "data": {
      "application/vnd.jupyter.widget-view+json": {
       "model_id": "e89909a883194996bb3ce7b0f4f4625c",
       "version_major": 2,
       "version_minor": 0
      },
      "text/plain": [
       "Downloading:   0%|          | 0.00/2.85G [00:00<?, ?B/s]"
      ]
     },
     "metadata": {},
     "output_type": "display_data"
    },
    {
     "name": "stdout",
     "output_type": "stream",
     "text": [
      "Unique stimuli in session 840012044: ['spontaneous' 'gabors' 'flashes' 'drifting_gratings_contrast'\n",
      " 'natural_movie_one_more_repeats' 'natural_movie_one_shuffled'\n",
      " 'drifting_gratings_75_repeats' 'dot_motion']\n",
      "Skipping session 840012044 as it does not contain natural scenes.\n"
     ]
    },
    {
     "name": "stderr",
     "output_type": "stream",
     "text": [
      "WARNING:root:downloading a 2682.873MiB file from http://api.brain-map.org//api/v2/well_known_file_download/1026123943\n"
     ]
    },
    {
     "data": {
      "application/vnd.jupyter.widget-view+json": {
       "model_id": "90bf20f220c54b018f561f530f3c0cb7",
       "version_major": 2,
       "version_minor": 0
      },
      "text/plain": [
       "Downloading:   0%|          | 0.00/2.81G [00:00<?, ?B/s]"
      ]
     },
     "metadata": {},
     "output_type": "display_data"
    },
    {
     "name": "stdout",
     "output_type": "stream",
     "text": [
      "Unique stimuli in session 847657808: ['spontaneous' 'gabors' 'flashes' 'drifting_gratings_contrast'\n",
      " 'natural_movie_one_more_repeats' 'natural_movie_one_shuffled'\n",
      " 'drifting_gratings_75_repeats' 'dot_motion']\n",
      "Skipping session 847657808 as it does not contain natural scenes.\n"
     ]
    }
   ],
   "source": [
    "import numpy as np\n",
    "import torch\n",
    "import pandas as pd\n",
    "from tqdm import tqdm\n",
    "import concurrent.futures\n",
    "import pickle\n",
    "\n",
    "# Function to check if a session contains natural scenes\n",
    "def contains_natural_scenes(session):\n",
    "    stimulus_presentations = session.stimulus_presentations\n",
    "    return 'natural_scenes' in stimulus_presentations['stimulus_name'].unique()\n",
    "\n",
    "# Print function to display all stimuli in a session\n",
    "def print_all_stimuli(session):\n",
    "    stimulus_presentations = session.stimulus_presentations\n",
    "    unique_stimuli = stimulus_presentations['stimulus_name'].unique()\n",
    "    print(f\"Unique stimuli in session {session.ecephys_session_id}: {unique_stimuli}\")\n",
    "\n",
    "# Your main processing loop\n",
    "\n",
    "for i in sessions:\n",
    "    session_number = i\n",
    "    \n",
    "    # Pull session.\n",
    "    session = cache.get_session_data(session_number,\n",
    "                                     isi_violations_maximum=np.inf,\n",
    "                                     amplitude_cutoff_maximum=np.inf,\n",
    "                                     presence_ratio_minimum=-np.inf\n",
    "                                    )\n",
    "    \n",
    "    # Print all stimuli in the session\n",
    "    print_all_stimuli(session)\n",
    "    \n",
    "    # Check if the session contains natural scenes\n",
    "    if not contains_natural_scenes(session):\n",
    "        print(f\"Skipping session {session_number} as it does not contain natural scenes.\")\n",
    "        continue\n",
    "\n",
    "    # Get spike times.\n",
    "    spike_times = session.spike_times\n",
    "    \n",
    "    # Get specific stimulus table.\n",
    "    stimulus_table = session.get_stimulus_table(\"natural_scenes\")\n",
    "    \n",
    "    # Display objects within session.\n",
    "    print(\"Session objects\")\n",
    "    print([attr_or_method for attr_or_method in dir(session) if attr_or_method[0] != '_'])\n",
    "    \n",
    "    # Access the invalid_times DataFrame\n",
    "    invalid_times = session.invalid_times\n",
    "\n",
    "    # Function to check if a spike time is valid\n",
    "    def is_valid_time(spike_times, invalid_intervals):\n",
    "        invalid = np.zeros_like(spike_times, dtype=bool)\n",
    "        for _, row in invalid_intervals.iterrows():\n",
    "            start, end = row['start_time'], row['stop_time']\n",
    "            invalid |= (spike_times >= start) & (spike_times <= end)\n",
    "        return ~invalid\n",
    "\n",
    "    # Filter the valid spike times\n",
    "    valid_spike_times = {}\n",
    "    \n",
    "    with tqdm(total=len(spike_times), desc='Filtering valid spike times') as pbar:\n",
    "        for neuron, times in spike_times.items():\n",
    "            valid_mask = is_valid_time(times, session.invalid_times)\n",
    "            valid_spike_times[neuron] = times[valid_mask]\n",
    "            pbar.update(1)\n",
    "            \n",
    "    # Parameters\n",
    "    timesteps_per_frame = 5  # Set the number of timesteps per frame\n",
    "\n",
    "    # The start times of each stimulus presentation\n",
    "    image_start_times = torch.tensor(stimulus_table.start_time.values)\n",
    "\n",
    "    # The end times of each stimulus presentation\n",
    "    image_end_times = torch.tensor(stimulus_table.stop_time.values)\n",
    "\n",
    "    # The duration of each image presentation\n",
    "    image_durations = image_end_times - image_start_times\n",
    "\n",
    "    # The bin size for each image presentation\n",
    "    bin_sizes = image_durations / timesteps_per_frame\n",
    "\n",
    "    # The number of bins per image presentation\n",
    "    bins_per_image = timesteps_per_frame\n",
    "\n",
    "    # The total number of bins\n",
    "    total_bins = bins_per_image * len(image_start_times)\n",
    "\n",
    "    # Create an empty binary spike matrix\n",
    "    num_neurons = len(spike_times.keys())\n",
    "\n",
    "    def process_neuron(times):\n",
    "        # The start bin for the next image presentation\n",
    "        start_bin = 0\n",
    "        neuron_spike_bins = torch.zeros(total_bins, dtype=torch.int32)\n",
    "        for image_idx, (start_time, end_time) in enumerate(zip(image_start_times, image_end_times)):\n",
    "            # Bin edges for this image presentation\n",
    "            bin_edges = torch.linspace(start_time, end_time, bins_per_image + 1)\n",
    "\n",
    "            # Bin the spike times for this image presentation\n",
    "            binned_spike_times = torch.histc(torch.tensor(times), bins=bin_edges.shape[0]-1, min=bin_edges.min(), max=bin_edges.max())\n",
    "\n",
    "            # Add the binned spike times to the spike matrix\n",
    "            end_bin = start_bin + bins_per_image\n",
    "            if len(binned_spike_times) == len(neuron_spike_bins[start_bin:end_bin]):\n",
    "                neuron_spike_bins[start_bin:end_bin] = binned_spike_times\n",
    "\n",
    "            # Update the start bin for the next image presentation\n",
    "            start_bin = end_bin\n",
    "        return neuron_spike_bins\n",
    "\n",
    "    with concurrent.futures.ProcessPoolExecutor() as executor:\n",
    "        spike_matrix = list(tqdm(executor.map(process_neuron, spike_times.values()), total=num_neurons, desc='Processing neurons'))\n",
    "\n",
    "    spike_matrix = torch.stack(spike_matrix)\n",
    "\n",
    "    # Convert the spike matrix to a pandas DataFrame and set the index to neuron IDs\n",
    "    spike_dataframe = pd.DataFrame(spike_matrix.numpy(), index=spike_times.keys())\n",
    "\n",
    "    spike_dataframe.T\n",
    "    \n",
    "    spike_df = spike_dataframe.T\n",
    "    spike_df['frame'] = 'nan'\n",
    "    spike_df['frame'] = np.repeat(np.array(stimulus_table['frame']), timesteps_per_frame)\n",
    "\n",
    "    # Save the dictionary of valid spike times to a pickle file\n",
    "    with open(f'spike_trains_with_stimulus_session_{session_number}_{timesteps_per_frame}.pkl', 'wb') as f:\n",
    "        pickle.dump(spike_df, f)"
   ]
  },
  {
   "cell_type": "code",
   "execution_count": null,
   "id": "2bc6bca5-7107-43f0-802c-86bc5e8123fe",
   "metadata": {},
   "outputs": [],
   "source": []
  }
 ],
 "metadata": {
  "kernelspec": {
   "display_name": "Python 3 (ipykernel)",
   "language": "python",
   "name": "python3"
  },
  "language_info": {
   "codemirror_mode": {
    "name": "ipython",
    "version": 3
   },
   "file_extension": ".py",
   "mimetype": "text/x-python",
   "name": "python",
   "nbconvert_exporter": "python",
   "pygments_lexer": "ipython3",
   "version": "3.10.9"
  }
 },
 "nbformat": 4,
 "nbformat_minor": 5
}
