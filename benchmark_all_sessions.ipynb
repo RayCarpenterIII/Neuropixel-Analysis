{
 "cells": [
  {
   "cell_type": "markdown",
   "id": "48733df3-64a9-4021-a6ad-bcfaa1204838",
   "metadata": {
    "tags": []
   },
   "source": [
    "### Show how accuracy varies across mice by running LSTM on all sessions."
   ]
  },
  {
   "cell_type": "markdown",
   "id": "1583248a-5abe-4a38-971e-06ed3927e244",
   "metadata": {
    "tags": []
   },
   "source": [
    "### Run Models"
   ]
  },
  {
   "cell_type": "markdown",
   "id": "07523ee6-4d6b-4b25-8332-e941a4f270f2",
   "metadata": {
    "tags": []
   },
   "source": [
    "#### LSTM"
   ]
  },
  {
   "cell_type": "code",
   "execution_count": 1,
   "id": "4ba4673e-6680-4377-a0f6-62dc87a11daa",
   "metadata": {},
   "outputs": [],
   "source": [
    "import pickle\n",
    "import numpy as np\n",
    "import torch\n",
    "import torch.nn as nn\n",
    "import csv\n",
    "import os\n",
    "from torch.utils.data import DataLoader\n",
    "from sklearn.model_selection import train_test_split\n",
    "from sklearn.preprocessing import LabelEncoder\n",
    "\n",
    "def run_lstm_model(hidden_dim, layer_dim, learning_rate, num_epochs, batch_size, seq_len, session_details_file_path, spike_trains_file_path):\n",
    "    # Function to save session details to a CSV file\n",
    "    def save_session_details(session_details):\n",
    "        fieldnames = [\n",
    "            'session_number', 'bins', 'model_name', 'test_acc', \n",
    "            'train_acc', 'num_epochs', 'hidden_dim', 'layer_dim', \n",
    "            'learning_rate', 'batch_size'\n",
    "        ]\n",
    "        \n",
    "        # Check if the file exists\n",
    "        file_exists = os.path.isfile(session_details_file_path)\n",
    "        \n",
    "        # Open the file in append mode\n",
    "        with open(session_details_file_path, 'a', newline='') as csvfile:\n",
    "            writer = csv.DictWriter(csvfile, fieldnames=fieldnames)\n",
    "            \n",
    "            # Write the header if the file does not exist\n",
    "            if not file_exists:\n",
    "                writer.writeheader()\n",
    "            \n",
    "            # Write the session details\n",
    "            writer.writerow(session_details)\n",
    "\n",
    "    with open(spike_trains_file_path, 'rb') as f:\n",
    "        spike_df = pickle.load(f)\n",
    "\n",
    "    # Create X and y\n",
    "    X = spike_df.drop(columns=['frame']).values\n",
    "    y = spike_df['frame'].values\n",
    "\n",
    "    # Encode categorical target values\n",
    "    encoder = LabelEncoder()\n",
    "    y_encoded = encoder.fit_transform(y)\n",
    "    output_dim = len(np.unique(y_encoded))\n",
    "\n",
    "    # Create train/test split\n",
    "    X_train, X_test, y_train, y_test = train_test_split(X, y_encoded, test_size=0.2, random_state=42, shuffle=False)\n",
    "\n",
    "    num_samples_train = X_train.shape[0] // seq_len\n",
    "    num_features = X_train.shape[1]\n",
    "    num_samples_test = X_test.shape[0] // seq_len\n",
    "\n",
    "    # Reshape input and output to have 3 dimensions\n",
    "    X_train = X_train[:num_samples_train*seq_len].reshape(num_samples_train, seq_len, num_features)\n",
    "    y_train = y_train[:num_samples_train*seq_len].reshape(num_samples_train, seq_len, 1)[:, -1]\n",
    "    X_test = X_test[:num_samples_test*seq_len].reshape(num_samples_test, seq_len, num_features)\n",
    "    y_test = y_test[:num_samples_test*seq_len].reshape(num_samples_test, seq_len, 1)[:, -1]\n",
    "\n",
    "    # Convert numpy arrays to PyTorch tensors\n",
    "    X_train = torch.tensor(X_train, dtype=torch.float32)\n",
    "    y_train = torch.tensor(y_train, dtype=torch.long)\n",
    "    X_test = torch.tensor(X_test, dtype=torch.float32)\n",
    "    y_test = torch.tensor(y_test, dtype=torch.long)\n",
    "\n",
    "    # Define LSTM model\n",
    "    class LSTMModel(nn.Module):\n",
    "        def __init__(self, input_dim, hidden_dim, layer_dim, output_dim):\n",
    "            super(LSTMModel, self).__init__()\n",
    "            self.hidden_dim = hidden_dim\n",
    "            self.layer_dim = layer_dim\n",
    "            self.lstm = nn.LSTM(input_dim, hidden_dim, layer_dim, batch_first=True)\n",
    "            self.fc = nn.Linear(hidden_dim, output_dim)\n",
    "\n",
    "        def forward(self, x):\n",
    "            h0 = torch.zeros(self.layer_dim, x.size(0), self.hidden_dim).requires_grad_().to(device)\n",
    "            c0 = torch.zeros(self.layer_dim, x.size(0), self.hidden_dim).requires_grad_().to(device)\n",
    "            out, (hn, cn) = self.lstm(x, (h0.detach(), c0.detach()))\n",
    "            out = self.fc(out[:, -1, :])\n",
    "            return out\n",
    "\n",
    "    # Check if GPU is available\n",
    "    device = torch.device(\"cuda\" if torch.cuda.is_available() else \"cpu\")\n",
    "    # Set model parameters\n",
    "    input_dim = X_train.shape[-1]\n",
    "\n",
    "    # Initialize the model, loss function, and optimizer\n",
    "    model = LSTMModel(input_dim, hidden_dim, layer_dim, output_dim).to(device)\n",
    "    criterion = nn.CrossEntropyLoss()\n",
    "    optimizer = torch.optim.Adam(model.parameters(), lr=learning_rate)\n",
    "\n",
    "    # Create DataLoaders for training and testing data\n",
    "    train_loader = DataLoader(list(zip(X_train, y_train)), batch_size=batch_size, shuffle=True, drop_last=True)\n",
    "    test_loader = DataLoader(list(zip(X_test, y_test)), batch_size=batch_size, shuffle=True)\n",
    "\n",
    "    highest_test_acc = 0.0\n",
    "    best_train_acc = 0.0\n",
    "\n",
    "    # Training loop\n",
    "    for epoch in range(num_epochs):\n",
    "        model.train()\n",
    "        train_running_loss = 0.0\n",
    "        correct_train_preds = 0.0\n",
    "        total_train_samples = 0.0\n",
    "        for i, (features, labels) in enumerate(train_loader):\n",
    "            features = features.view(-1, seq_len, input_dim).to(device)\n",
    "            labels = labels.to(device)\n",
    "            out = model(features)\n",
    "            labels = labels.view(-1)\n",
    "            if labels.dim() > 1:\n",
    "                labels = torch.argmax(labels, dim=1)\n",
    "            labels = labels.long()\n",
    "            loss = criterion(out, labels)\n",
    "            optimizer.zero_grad()\n",
    "            loss.backward()\n",
    "            optimizer.step()\n",
    "            train_running_loss += loss.detach().item()\n",
    "            _, preds = torch.max(out, dim=1)\n",
    "            correct_train_preds += (preds == labels).sum().item()\n",
    "            total_train_samples += labels.shape[0]\n",
    "\n",
    "        model.eval()\n",
    "        correct_test_preds = 0.0\n",
    "        total_test_samples = 0.0\n",
    "        with torch.no_grad():\n",
    "            for i, (features, labels) in enumerate(test_loader):\n",
    "                features = features.view(-1, seq_len, input_dim).to(device)\n",
    "                labels = labels.to(device).squeeze()\n",
    "                out = model(features)\n",
    "                _, preds = torch.max(out, dim=1)\n",
    "                correct_test_preds += (preds == labels).sum().item()\n",
    "                total_test_samples += labels.shape[0]\n",
    "\n",
    "        train_acc = correct_train_preds / total_train_samples * 100\n",
    "        test_acc = correct_test_preds / total_test_samples * 100\n",
    "\n",
    "        if test_acc > highest_test_acc:\n",
    "            highest_test_acc = test_acc\n",
    "            best_train_acc = train_acc\n",
    "\n",
    "        #print(f'Epoch {epoch+1}, Loss: {np.round(train_running_loss/i,2)}, Train Acc: {np.round(train_acc,2)}%, Test Acc: {np.round(test_acc,2)}%')\n",
    "\n",
    "    # Print and save session details with the highest test accuracy\n",
    "    session_details = {\n",
    "        'session_number': spike_trains_file_path.split('_')[-2].split('_')[0],\n",
    "        'bins': seq_len,\n",
    "        'model_name': 'LSTM',\n",
    "        'test_acc': np.round(highest_test_acc, 2),\n",
    "        'train_acc': np.round(best_train_acc, 2),\n",
    "        'num_epochs': num_epochs,\n",
    "        'hidden_dim': hidden_dim,\n",
    "        'layer_dim': layer_dim,\n",
    "        'learning_rate': learning_rate,\n",
    "        'batch_size': batch_size\n",
    "    }\n",
    "    print(f'Best Test Accuracy: {highest_test_acc}%')\n",
    "    save_session_details(session_details)"
   ]
  },
  {
   "cell_type": "code",
   "execution_count": 2,
   "id": "7af767a4-82d4-4e2c-8c39-0757fb759dd6",
   "metadata": {},
   "outputs": [
    {
     "data": {
      "text/plain": [
       "32"
      ]
     },
     "execution_count": 2,
     "metadata": {},
     "output_type": "execute_result"
    }
   ],
   "source": [
    "session_keys = [715093703, 719161530, 721123822, 732592105, 737581020, 739448407, 742951821, 743475441, 744228101, 746083955, 750332458, 750749662, 751348571, 754312389, 754829445, 755434585, 756029989, 757216464, 757970808, 758798717, 759883607, 760345702, 760693773, 761418226, 762120172, 762602078, 763673393, 773418906, 791319847, 797828357, 798911424, 799864342]\n",
    "\n",
    "len(session_keys)"
   ]
  },
  {
   "cell_type": "code",
   "execution_count": null,
   "id": "bd340cb7-038c-4d97-b710-5d3b8f5fd4fa",
   "metadata": {},
   "outputs": [],
   "source": []
  },
  {
   "cell_type": "code",
   "execution_count": 41,
   "id": "f2e20f24-a004-457b-ae6f-473e5ef77232",
   "metadata": {
    "scrolled": true
   },
   "outputs": [
    {
     "name": "stderr",
     "output_type": "stream",
     "text": [
      "Processing hidden value 100:   3%|█▋                                                    | 1/32 [00:03<01:36,  3.10s/it]"
     ]
    },
    {
     "name": "stdout",
     "output_type": "stream",
     "text": [
      "Best Test Accuracy: 88.57142857142857%\n"
     ]
    },
    {
     "name": "stderr",
     "output_type": "stream",
     "text": [
      "Processing hidden value 100:   6%|███▍                                                  | 2/32 [00:06<01:32,  3.07s/it]"
     ]
    },
    {
     "name": "stdout",
     "output_type": "stream",
     "text": [
      "Best Test Accuracy: 62.35294117647059%\n"
     ]
    },
    {
     "name": "stderr",
     "output_type": "stream",
     "text": [
      "Processing hidden value 100:   9%|█████                                                 | 3/32 [00:08<01:24,  2.91s/it]"
     ]
    },
    {
     "name": "stdout",
     "output_type": "stream",
     "text": [
      "Best Test Accuracy: 72.94117647058823%\n"
     ]
    },
    {
     "name": "stderr",
     "output_type": "stream",
     "text": [
      "Processing hidden value 100:  12%|██████▊                                               | 4/32 [00:12<01:30,  3.25s/it]"
     ]
    },
    {
     "name": "stdout",
     "output_type": "stream",
     "text": [
      "Best Test Accuracy: 74.03361344537815%\n"
     ]
    },
    {
     "name": "stderr",
     "output_type": "stream",
     "text": [
      "Processing hidden value 100:  16%|████████▍                                             | 5/32 [00:15<01:20,  2.97s/it]"
     ]
    },
    {
     "name": "stdout",
     "output_type": "stream",
     "text": [
      "Best Test Accuracy: 50.676818950930624%\n"
     ]
    },
    {
     "name": "stderr",
     "output_type": "stream",
     "text": [
      "Processing hidden value 100:  19%|██████████▏                                           | 6/32 [00:19<01:26,  3.32s/it]"
     ]
    },
    {
     "name": "stdout",
     "output_type": "stream",
     "text": [
      "Best Test Accuracy: 80.4201680672269%\n"
     ]
    },
    {
     "name": "stderr",
     "output_type": "stream",
     "text": [
      "Processing hidden value 100:  22%|███████████▊                                          | 7/32 [00:24<01:40,  4.01s/it]"
     ]
    },
    {
     "name": "stdout",
     "output_type": "stream",
     "text": [
      "Best Test Accuracy: 44.6218487394958%\n"
     ]
    },
    {
     "name": "stderr",
     "output_type": "stream",
     "text": [
      "Processing hidden value 100:  25%|█████████████▌                                        | 8/32 [00:29<01:40,  4.17s/it]"
     ]
    },
    {
     "name": "stdout",
     "output_type": "stream",
     "text": [
      "Best Test Accuracy: 58.31932773109244%\n"
     ]
    },
    {
     "name": "stderr",
     "output_type": "stream",
     "text": [
      "Processing hidden value 100:  28%|███████████████▏                                      | 9/32 [00:32<01:32,  4.01s/it]"
     ]
    },
    {
     "name": "stdout",
     "output_type": "stream",
     "text": [
      "Best Test Accuracy: 46.72268907563025%\n"
     ]
    },
    {
     "name": "stderr",
     "output_type": "stream",
     "text": [
      "Processing hidden value 100:  31%|████████████████▌                                    | 10/32 [00:35<01:20,  3.65s/it]"
     ]
    },
    {
     "name": "stdout",
     "output_type": "stream",
     "text": [
      "Best Test Accuracy: 84.03361344537815%\n"
     ]
    },
    {
     "name": "stderr",
     "output_type": "stream",
     "text": [
      "Processing hidden value 100:  34%|██████████████████▏                                  | 11/32 [00:38<01:13,  3.50s/it]"
     ]
    },
    {
     "name": "stdout",
     "output_type": "stream",
     "text": [
      "Best Test Accuracy: 66.97478991596638%\n"
     ]
    },
    {
     "name": "stderr",
     "output_type": "stream",
     "text": [
      "Processing hidden value 100:  38%|███████████████████▉                                 | 12/32 [00:41<01:06,  3.30s/it]"
     ]
    },
    {
     "name": "stdout",
     "output_type": "stream",
     "text": [
      "Best Test Accuracy: 50.50420168067227%\n"
     ]
    },
    {
     "name": "stderr",
     "output_type": "stream",
     "text": [
      "Processing hidden value 100:  41%|█████████████████████▌                               | 13/32 [00:44<01:01,  3.24s/it]"
     ]
    },
    {
     "name": "stdout",
     "output_type": "stream",
     "text": [
      "Best Test Accuracy: 47.89915966386555%\n"
     ]
    },
    {
     "name": "stderr",
     "output_type": "stream",
     "text": [
      "Processing hidden value 100:  44%|███████████████████████▏                             | 14/32 [00:47<00:54,  3.05s/it]"
     ]
    },
    {
     "name": "stdout",
     "output_type": "stream",
     "text": [
      "Best Test Accuracy: 1.0924369747899159%\n"
     ]
    },
    {
     "name": "stderr",
     "output_type": "stream",
     "text": [
      "Processing hidden value 100:  47%|████████████████████████▊                            | 15/32 [00:50<00:51,  3.03s/it]"
     ]
    },
    {
     "name": "stdout",
     "output_type": "stream",
     "text": [
      "Best Test Accuracy: 55.96638655462185%\n"
     ]
    },
    {
     "name": "stderr",
     "output_type": "stream",
     "text": [
      "Processing hidden value 100:  50%|██████████████████████████▌                          | 16/32 [00:53<00:48,  3.01s/it]"
     ]
    },
    {
     "name": "stdout",
     "output_type": "stream",
     "text": [
      "Best Test Accuracy: 78.82352941176471%\n"
     ]
    },
    {
     "name": "stderr",
     "output_type": "stream",
     "text": [
      "Processing hidden value 100:  53%|████████████████████████████▏                        | 17/32 [00:56<00:44,  2.96s/it]"
     ]
    },
    {
     "name": "stdout",
     "output_type": "stream",
     "text": [
      "Best Test Accuracy: 78.73949579831933%\n"
     ]
    },
    {
     "name": "stderr",
     "output_type": "stream",
     "text": [
      "Processing hidden value 100:  56%|█████████████████████████████▊                       | 18/32 [00:59<00:42,  3.04s/it]"
     ]
    },
    {
     "name": "stdout",
     "output_type": "stream",
     "text": [
      "Best Test Accuracy: 71.26050420168067%\n"
     ]
    },
    {
     "name": "stderr",
     "output_type": "stream",
     "text": [
      "Processing hidden value 100:  59%|███████████████████████████████▍                     | 19/32 [01:02<00:39,  3.03s/it]"
     ]
    },
    {
     "name": "stdout",
     "output_type": "stream",
     "text": [
      "Best Test Accuracy: 70.33613445378151%\n"
     ]
    },
    {
     "name": "stderr",
     "output_type": "stream",
     "text": [
      "Processing hidden value 100:  62%|█████████████████████████████████▏                   | 20/32 [01:04<00:34,  2.92s/it]"
     ]
    },
    {
     "name": "stdout",
     "output_type": "stream",
     "text": [
      "Best Test Accuracy: 79.66386554621849%\n"
     ]
    },
    {
     "name": "stderr",
     "output_type": "stream",
     "text": [
      "Processing hidden value 100:  66%|██████████████████████████████████▊                  | 21/32 [01:07<00:31,  2.86s/it]"
     ]
    },
    {
     "name": "stdout",
     "output_type": "stream",
     "text": [
      "Best Test Accuracy: 71.09243697478992%\n"
     ]
    },
    {
     "name": "stderr",
     "output_type": "stream",
     "text": [
      "Processing hidden value 100:  69%|████████████████████████████████████▍                | 22/32 [01:10<00:28,  2.81s/it]"
     ]
    },
    {
     "name": "stdout",
     "output_type": "stream",
     "text": [
      "Best Test Accuracy: 89.49579831932773%\n"
     ]
    },
    {
     "name": "stderr",
     "output_type": "stream",
     "text": [
      "Processing hidden value 100:  72%|██████████████████████████████████████               | 23/32 [01:13<00:25,  2.88s/it]"
     ]
    },
    {
     "name": "stdout",
     "output_type": "stream",
     "text": [
      "Best Test Accuracy: 86.72268907563026%\n"
     ]
    },
    {
     "name": "stderr",
     "output_type": "stream",
     "text": [
      "Processing hidden value 100:  75%|███████████████████████████████████████▊             | 24/32 [01:16<00:23,  2.90s/it]"
     ]
    },
    {
     "name": "stdout",
     "output_type": "stream",
     "text": [
      "Best Test Accuracy: 89.83193277310924%\n"
     ]
    },
    {
     "name": "stderr",
     "output_type": "stream",
     "text": [
      "Processing hidden value 100:  78%|█████████████████████████████████████████▍           | 25/32 [01:19<00:20,  2.88s/it]"
     ]
    },
    {
     "name": "stdout",
     "output_type": "stream",
     "text": [
      "Best Test Accuracy: 83.61344537815127%\n"
     ]
    },
    {
     "name": "stderr",
     "output_type": "stream",
     "text": [
      "Processing hidden value 100:  81%|███████████████████████████████████████████          | 26/32 [01:21<00:16,  2.81s/it]"
     ]
    },
    {
     "name": "stdout",
     "output_type": "stream",
     "text": [
      "Best Test Accuracy: 94.36974789915966%\n"
     ]
    },
    {
     "name": "stderr",
     "output_type": "stream",
     "text": [
      "Processing hidden value 100:  84%|████████████████████████████████████████████▋        | 27/32 [01:24<00:14,  2.87s/it]"
     ]
    },
    {
     "name": "stdout",
     "output_type": "stream",
     "text": [
      "Best Test Accuracy: 80.33613445378151%\n"
     ]
    },
    {
     "name": "stderr",
     "output_type": "stream",
     "text": [
      "Processing hidden value 100:  88%|██████████████████████████████████████████████▍      | 28/32 [01:27<00:11,  2.82s/it]"
     ]
    },
    {
     "name": "stdout",
     "output_type": "stream",
     "text": [
      "Best Test Accuracy: 62.10084033613445%\n"
     ]
    },
    {
     "name": "stderr",
     "output_type": "stream",
     "text": [
      "Processing hidden value 100:  91%|████████████████████████████████████████████████     | 29/32 [01:30<00:08,  2.88s/it]"
     ]
    },
    {
     "name": "stdout",
     "output_type": "stream",
     "text": [
      "Best Test Accuracy: 78.31932773109244%\n"
     ]
    },
    {
     "name": "stderr",
     "output_type": "stream",
     "text": [
      "Processing hidden value 100:  94%|█████████████████████████████████████████████████▋   | 30/32 [01:33<00:05,  2.87s/it]"
     ]
    },
    {
     "name": "stdout",
     "output_type": "stream",
     "text": [
      "Best Test Accuracy: 44.70588235294118%\n"
     ]
    },
    {
     "name": "stderr",
     "output_type": "stream",
     "text": [
      "Processing hidden value 100:  97%|███████████████████████████████████████████████████▎ | 31/32 [01:36<00:02,  2.94s/it]"
     ]
    },
    {
     "name": "stdout",
     "output_type": "stream",
     "text": [
      "Best Test Accuracy: 83.44537815126051%\n"
     ]
    },
    {
     "name": "stderr",
     "output_type": "stream",
     "text": [
      "                                                                                                                       \r"
     ]
    },
    {
     "name": "stdout",
     "output_type": "stream",
     "text": [
      "Best Test Accuracy: 85.12605042016807%\n"
     ]
    },
    {
     "name": "stderr",
     "output_type": "stream",
     "text": [
      "Processing hidden value 1000:   3%|█▋                                                   | 1/32 [00:06<03:32,  6.84s/it]"
     ]
    },
    {
     "name": "stdout",
     "output_type": "stream",
     "text": [
      "Best Test Accuracy: 97.47899159663865%\n"
     ]
    },
    {
     "name": "stderr",
     "output_type": "stream",
     "text": [
      "Processing hidden value 1000:   6%|███▎                                                 | 2/32 [00:12<03:11,  6.40s/it]"
     ]
    },
    {
     "name": "stdout",
     "output_type": "stream",
     "text": [
      "Best Test Accuracy: 85.7983193277311%\n"
     ]
    },
    {
     "name": "stderr",
     "output_type": "stream",
     "text": [
      "Processing hidden value 1000:   9%|████▉                                                | 3/32 [00:17<02:45,  5.72s/it]"
     ]
    },
    {
     "name": "stdout",
     "output_type": "stream",
     "text": [
      "Best Test Accuracy: 82.35294117647058%\n"
     ]
    },
    {
     "name": "stderr",
     "output_type": "stream",
     "text": [
      "Processing hidden value 1000:  12%|██████▋                                              | 4/32 [00:25<03:06,  6.67s/it]"
     ]
    },
    {
     "name": "stdout",
     "output_type": "stream",
     "text": [
      "Best Test Accuracy: 86.89075630252101%\n"
     ]
    },
    {
     "name": "stderr",
     "output_type": "stream",
     "text": [
      "Processing hidden value 1000:  16%|████████▎                                            | 5/32 [00:31<02:48,  6.24s/it]"
     ]
    },
    {
     "name": "stdout",
     "output_type": "stream",
     "text": [
      "Best Test Accuracy: 46.78510998307953%\n"
     ]
    },
    {
     "name": "stderr",
     "output_type": "stream",
     "text": [
      "Processing hidden value 1000:  19%|█████████▉                                           | 6/32 [00:37<02:40,  6.18s/it]"
     ]
    },
    {
     "name": "stdout",
     "output_type": "stream",
     "text": [
      "Best Test Accuracy: 92.01680672268907%\n"
     ]
    },
    {
     "name": "stderr",
     "output_type": "stream",
     "text": [
      "Processing hidden value 1000:  22%|███████████▌                                         | 7/32 [00:44<02:39,  6.37s/it]"
     ]
    },
    {
     "name": "stdout",
     "output_type": "stream",
     "text": [
      "Best Test Accuracy: 70.33613445378151%\n"
     ]
    },
    {
     "name": "stderr",
     "output_type": "stream",
     "text": [
      "Processing hidden value 1000:  25%|█████████████▎                                       | 8/32 [00:49<02:26,  6.12s/it]"
     ]
    },
    {
     "name": "stdout",
     "output_type": "stream",
     "text": [
      "Best Test Accuracy: 78.15126050420169%\n"
     ]
    },
    {
     "name": "stderr",
     "output_type": "stream",
     "text": [
      "Processing hidden value 1000:  28%|██████████████▉                                      | 9/32 [00:55<02:20,  6.12s/it]"
     ]
    },
    {
     "name": "stdout",
     "output_type": "stream",
     "text": [
      "Best Test Accuracy: 67.14285714285714%\n"
     ]
    },
    {
     "name": "stderr",
     "output_type": "stream",
     "text": [
      "Processing hidden value 1000:  31%|████████████████▎                                   | 10/32 [01:01<02:11,  5.98s/it]"
     ]
    },
    {
     "name": "stdout",
     "output_type": "stream",
     "text": [
      "Best Test Accuracy: 91.84873949579831%\n"
     ]
    },
    {
     "name": "stderr",
     "output_type": "stream",
     "text": [
      "Processing hidden value 1000:  34%|█████████████████▉                                  | 11/32 [01:08<02:11,  6.24s/it]"
     ]
    },
    {
     "name": "stdout",
     "output_type": "stream",
     "text": [
      "Best Test Accuracy: 86.80672268907563%\n"
     ]
    },
    {
     "name": "stderr",
     "output_type": "stream",
     "text": [
      "Processing hidden value 1000:  38%|███████████████████▌                                | 12/32 [01:14<02:05,  6.29s/it]"
     ]
    },
    {
     "name": "stdout",
     "output_type": "stream",
     "text": [
      "Best Test Accuracy: 76.72268907563026%\n"
     ]
    },
    {
     "name": "stderr",
     "output_type": "stream",
     "text": [
      "Processing hidden value 1000:  41%|█████████████████████▏                              | 13/32 [01:21<02:02,  6.45s/it]"
     ]
    },
    {
     "name": "stdout",
     "output_type": "stream",
     "text": [
      "Best Test Accuracy: 69.15966386554622%\n"
     ]
    },
    {
     "name": "stderr",
     "output_type": "stream",
     "text": [
      "Processing hidden value 1000:  44%|██████████████████████▊                             | 14/32 [01:26<01:47,  5.99s/it]"
     ]
    },
    {
     "name": "stdout",
     "output_type": "stream",
     "text": [
      "Best Test Accuracy: 1.1764705882352942%\n"
     ]
    },
    {
     "name": "stderr",
     "output_type": "stream",
     "text": [
      "Processing hidden value 1000:  47%|████████████████████████▍                           | 15/32 [01:32<01:43,  6.08s/it]"
     ]
    },
    {
     "name": "stdout",
     "output_type": "stream",
     "text": [
      "Best Test Accuracy: 72.60504201680672%\n"
     ]
    },
    {
     "name": "stderr",
     "output_type": "stream",
     "text": [
      "Processing hidden value 1000:  50%|██████████████████████████                          | 16/32 [01:38<01:35,  5.98s/it]"
     ]
    },
    {
     "name": "stdout",
     "output_type": "stream",
     "text": [
      "Best Test Accuracy: 94.87394957983193%\n"
     ]
    },
    {
     "name": "stderr",
     "output_type": "stream",
     "text": [
      "Processing hidden value 1000:  53%|███████████████████████████▋                        | 17/32 [01:44<01:29,  5.94s/it]"
     ]
    },
    {
     "name": "stdout",
     "output_type": "stream",
     "text": [
      "Best Test Accuracy: 88.73949579831933%\n"
     ]
    },
    {
     "name": "stderr",
     "output_type": "stream",
     "text": [
      "Processing hidden value 1000:  56%|█████████████████████████████▎                      | 18/32 [01:51<01:26,  6.17s/it]"
     ]
    },
    {
     "name": "stdout",
     "output_type": "stream",
     "text": [
      "Best Test Accuracy: 83.44537815126051%\n"
     ]
    },
    {
     "name": "stderr",
     "output_type": "stream",
     "text": [
      "Processing hidden value 1000:  59%|██████████████████████████████▉                     | 19/32 [01:57<01:20,  6.20s/it]"
     ]
    },
    {
     "name": "stdout",
     "output_type": "stream",
     "text": [
      "Best Test Accuracy: 86.21848739495799%\n"
     ]
    },
    {
     "name": "stderr",
     "output_type": "stream",
     "text": [
      "Processing hidden value 1000:  62%|████████████████████████████████▌                   | 20/32 [02:02<01:11,  5.92s/it]"
     ]
    },
    {
     "name": "stdout",
     "output_type": "stream",
     "text": [
      "Best Test Accuracy: 89.41176470588236%\n"
     ]
    },
    {
     "name": "stderr",
     "output_type": "stream",
     "text": [
      "Processing hidden value 1000:  66%|██████████████████████████████████▏                 | 21/32 [02:08<01:03,  5.74s/it]"
     ]
    },
    {
     "name": "stdout",
     "output_type": "stream",
     "text": [
      "Best Test Accuracy: 83.02521008403362%\n"
     ]
    },
    {
     "name": "stderr",
     "output_type": "stream",
     "text": [
      "Processing hidden value 1000:  69%|███████████████████████████████████▊                | 22/32 [02:13<00:56,  5.61s/it]"
     ]
    },
    {
     "name": "stdout",
     "output_type": "stream",
     "text": [
      "Best Test Accuracy: 94.28571428571428%\n"
     ]
    },
    {
     "name": "stderr",
     "output_type": "stream",
     "text": [
      "Processing hidden value 1000:  72%|█████████████████████████████████████▍              | 23/32 [02:19<00:51,  5.78s/it]"
     ]
    },
    {
     "name": "stdout",
     "output_type": "stream",
     "text": [
      "Best Test Accuracy: 94.36974789915966%\n"
     ]
    },
    {
     "name": "stderr",
     "output_type": "stream",
     "text": [
      "Processing hidden value 1000:  75%|███████████████████████████████████████             | 24/32 [02:25<00:46,  5.86s/it]"
     ]
    },
    {
     "name": "stdout",
     "output_type": "stream",
     "text": [
      "Best Test Accuracy: 97.39495798319328%\n"
     ]
    },
    {
     "name": "stderr",
     "output_type": "stream",
     "text": [
      "Processing hidden value 1000:  78%|████████████████████████████████████████▋           | 25/32 [02:31<00:41,  5.88s/it]"
     ]
    },
    {
     "name": "stdout",
     "output_type": "stream",
     "text": [
      "Best Test Accuracy: 91.42857142857143%\n"
     ]
    },
    {
     "name": "stderr",
     "output_type": "stream",
     "text": [
      "Processing hidden value 1000:  81%|██████████████████████████████████████████▎         | 26/32 [02:36<00:34,  5.69s/it]"
     ]
    },
    {
     "name": "stdout",
     "output_type": "stream",
     "text": [
      "Best Test Accuracy: 97.3109243697479%\n"
     ]
    },
    {
     "name": "stderr",
     "output_type": "stream",
     "text": [
      "Processing hidden value 1000:  84%|███████████████████████████████████████████▉        | 27/32 [02:42<00:29,  5.82s/it]"
     ]
    },
    {
     "name": "stdout",
     "output_type": "stream",
     "text": [
      "Best Test Accuracy: 89.91596638655463%\n"
     ]
    },
    {
     "name": "stderr",
     "output_type": "stream",
     "text": [
      "Processing hidden value 1000:  88%|█████████████████████████████████████████████▌      | 28/32 [02:48<00:22,  5.72s/it]"
     ]
    },
    {
     "name": "stdout",
     "output_type": "stream",
     "text": [
      "Best Test Accuracy: 78.0672268907563%\n"
     ]
    },
    {
     "name": "stderr",
     "output_type": "stream",
     "text": [
      "Processing hidden value 1000:  91%|███████████████████████████████████████████████▏    | 29/32 [02:54<00:17,  5.70s/it]"
     ]
    },
    {
     "name": "stdout",
     "output_type": "stream",
     "text": [
      "Best Test Accuracy: 89.57983193277312%\n"
     ]
    },
    {
     "name": "stderr",
     "output_type": "stream",
     "text": [
      "Processing hidden value 1000:  94%|████████████████████████████████████████████████▊   | 30/32 [02:59<00:11,  5.77s/it]"
     ]
    },
    {
     "name": "stdout",
     "output_type": "stream",
     "text": [
      "Best Test Accuracy: 54.36974789915966%\n"
     ]
    },
    {
     "name": "stderr",
     "output_type": "stream",
     "text": [
      "Processing hidden value 1000:  97%|██████████████████████████████████████████████████▍ | 31/32 [03:06<00:05,  5.94s/it]"
     ]
    },
    {
     "name": "stdout",
     "output_type": "stream",
     "text": [
      "Best Test Accuracy: 93.8655462184874%\n"
     ]
    },
    {
     "name": "stderr",
     "output_type": "stream",
     "text": [
      "                                                                                                                       "
     ]
    },
    {
     "name": "stdout",
     "output_type": "stream",
     "text": [
      "Best Test Accuracy: 91.84873949579831%\n"
     ]
    },
    {
     "name": "stderr",
     "output_type": "stream",
     "text": [
      "\r"
     ]
    }
   ],
   "source": [
    "from tqdm import tqdm\n",
    "\n",
    "# Sets the hidden values to loop through.\n",
    "hidden_values = [100, 1000]\n",
    "\n",
    "# Loop through all hidden values.\n",
    "for h in hidden_values:\n",
    "    # Loop through all sessions per hidden value with tqdm timer.\n",
    "    for i in tqdm(session_keys, desc=f'Processing hidden value {h}', leave=False):\n",
    "        # Example call to the function\n",
    "        run_lstm_model(\n",
    "            hidden_dim=h,\n",
    "            layer_dim=1,\n",
    "            learning_rate=0.001,\n",
    "            num_epochs=15,\n",
    "            batch_size=64,\n",
    "            seq_len=5,\n",
    "            session_details_file_path = 'C:/Users/Ray/Coding/GitHub/Neuropixel-Analysis/output/3_shot_LSTM_per_mouse.csv',\n",
    "            spike_trains_file_path = f'C:/Users/Ray/Coding/Data/Neuropixel_Data/5_timesteps/spike_trains_with_stimulus_session_{i}_5.pkl'\n",
    "        )"
   ]
  },
  {
   "cell_type": "markdown",
   "id": "f87df398-b7e8-4679-99cb-e2c49dcb6222",
   "metadata": {
    "tags": []
   },
   "source": [
    "### Plot and analyze data"
   ]
  },
  {
   "cell_type": "code",
   "execution_count": 42,
   "id": "980c0127-0a26-4999-8000-6e719e89f63f",
   "metadata": {},
   "outputs": [
    {
     "data": {
      "text/html": [
       "<div>\n",
       "<style scoped>\n",
       "    .dataframe tbody tr th:only-of-type {\n",
       "        vertical-align: middle;\n",
       "    }\n",
       "\n",
       "    .dataframe tbody tr th {\n",
       "        vertical-align: top;\n",
       "    }\n",
       "\n",
       "    .dataframe thead th {\n",
       "        text-align: right;\n",
       "    }\n",
       "</style>\n",
       "<table border=\"1\" class=\"dataframe\">\n",
       "  <thead>\n",
       "    <tr style=\"text-align: right;\">\n",
       "      <th></th>\n",
       "      <th>mouse_number</th>\n",
       "      <th>bins</th>\n",
       "      <th>model</th>\n",
       "      <th>test_acc</th>\n",
       "      <th>train_acc</th>\n",
       "      <th>epochs</th>\n",
       "      <th>hidden_dim</th>\n",
       "      <th>layers</th>\n",
       "      <th>learning_rate</th>\n",
       "      <th>batch_size</th>\n",
       "    </tr>\n",
       "  </thead>\n",
       "  <tbody>\n",
       "    <tr>\n",
       "      <th>0</th>\n",
       "      <td>737581020</td>\n",
       "      <td>5</td>\n",
       "      <td>LSTM</td>\n",
       "      <td>47.04</td>\n",
       "      <td>100.00</td>\n",
       "      <td>15</td>\n",
       "      <td>500</td>\n",
       "      <td>1</td>\n",
       "      <td>0.001</td>\n",
       "      <td>64</td>\n",
       "    </tr>\n",
       "    <tr>\n",
       "      <th>1</th>\n",
       "      <td>737581020</td>\n",
       "      <td>5</td>\n",
       "      <td>LSTM</td>\n",
       "      <td>48.48</td>\n",
       "      <td>89.19</td>\n",
       "      <td>15</td>\n",
       "      <td>750</td>\n",
       "      <td>1</td>\n",
       "      <td>0.001</td>\n",
       "      <td>64</td>\n",
       "    </tr>\n",
       "    <tr>\n",
       "      <th>2</th>\n",
       "      <td>737581020</td>\n",
       "      <td>5</td>\n",
       "      <td>LSTM</td>\n",
       "      <td>50.93</td>\n",
       "      <td>100.00</td>\n",
       "      <td>15</td>\n",
       "      <td>250</td>\n",
       "      <td>1</td>\n",
       "      <td>0.001</td>\n",
       "      <td>64</td>\n",
       "    </tr>\n",
       "    <tr>\n",
       "      <th>3</th>\n",
       "      <td>797828357</td>\n",
       "      <td>5</td>\n",
       "      <td>LSTM</td>\n",
       "      <td>51.26</td>\n",
       "      <td>100.00</td>\n",
       "      <td>15</td>\n",
       "      <td>250</td>\n",
       "      <td>1</td>\n",
       "      <td>0.001</td>\n",
       "      <td>64</td>\n",
       "    </tr>\n",
       "    <tr>\n",
       "      <th>4</th>\n",
       "      <td>797828357</td>\n",
       "      <td>5</td>\n",
       "      <td>LSTM</td>\n",
       "      <td>52.77</td>\n",
       "      <td>100.00</td>\n",
       "      <td>15</td>\n",
       "      <td>500</td>\n",
       "      <td>1</td>\n",
       "      <td>0.001</td>\n",
       "      <td>64</td>\n",
       "    </tr>\n",
       "    <tr>\n",
       "      <th>...</th>\n",
       "      <td>...</td>\n",
       "      <td>...</td>\n",
       "      <td>...</td>\n",
       "      <td>...</td>\n",
       "      <td>...</td>\n",
       "      <td>...</td>\n",
       "      <td>...</td>\n",
       "      <td>...</td>\n",
       "      <td>...</td>\n",
       "      <td>...</td>\n",
       "    </tr>\n",
       "    <tr>\n",
       "      <th>152</th>\n",
       "      <td>773418906</td>\n",
       "      <td>5</td>\n",
       "      <td>LSTM</td>\n",
       "      <td>78.07</td>\n",
       "      <td>100.00</td>\n",
       "      <td>15</td>\n",
       "      <td>1000</td>\n",
       "      <td>1</td>\n",
       "      <td>0.001</td>\n",
       "      <td>64</td>\n",
       "    </tr>\n",
       "    <tr>\n",
       "      <th>153</th>\n",
       "      <td>791319847</td>\n",
       "      <td>5</td>\n",
       "      <td>LSTM</td>\n",
       "      <td>89.58</td>\n",
       "      <td>100.00</td>\n",
       "      <td>15</td>\n",
       "      <td>1000</td>\n",
       "      <td>1</td>\n",
       "      <td>0.001</td>\n",
       "      <td>64</td>\n",
       "    </tr>\n",
       "    <tr>\n",
       "      <th>154</th>\n",
       "      <td>797828357</td>\n",
       "      <td>5</td>\n",
       "      <td>LSTM</td>\n",
       "      <td>54.37</td>\n",
       "      <td>100.00</td>\n",
       "      <td>15</td>\n",
       "      <td>1000</td>\n",
       "      <td>1</td>\n",
       "      <td>0.001</td>\n",
       "      <td>64</td>\n",
       "    </tr>\n",
       "    <tr>\n",
       "      <th>155</th>\n",
       "      <td>798911424</td>\n",
       "      <td>5</td>\n",
       "      <td>LSTM</td>\n",
       "      <td>93.87</td>\n",
       "      <td>100.00</td>\n",
       "      <td>15</td>\n",
       "      <td>1000</td>\n",
       "      <td>1</td>\n",
       "      <td>0.001</td>\n",
       "      <td>64</td>\n",
       "    </tr>\n",
       "    <tr>\n",
       "      <th>156</th>\n",
       "      <td>799864342</td>\n",
       "      <td>5</td>\n",
       "      <td>LSTM</td>\n",
       "      <td>91.85</td>\n",
       "      <td>100.00</td>\n",
       "      <td>15</td>\n",
       "      <td>1000</td>\n",
       "      <td>1</td>\n",
       "      <td>0.001</td>\n",
       "      <td>64</td>\n",
       "    </tr>\n",
       "  </tbody>\n",
       "</table>\n",
       "<p>157 rows × 10 columns</p>\n",
       "</div>"
      ],
      "text/plain": [
       "     mouse_number  bins model  test_acc  train_acc  epochs  hidden_dim  \\\n",
       "0       737581020     5  LSTM     47.04     100.00      15         500   \n",
       "1       737581020     5  LSTM     48.48      89.19      15         750   \n",
       "2       737581020     5  LSTM     50.93     100.00      15         250   \n",
       "3       797828357     5  LSTM     51.26     100.00      15         250   \n",
       "4       797828357     5  LSTM     52.77     100.00      15         500   \n",
       "..            ...   ...   ...       ...        ...     ...         ...   \n",
       "152     773418906     5  LSTM     78.07     100.00      15        1000   \n",
       "153     791319847     5  LSTM     89.58     100.00      15        1000   \n",
       "154     797828357     5  LSTM     54.37     100.00      15        1000   \n",
       "155     798911424     5  LSTM     93.87     100.00      15        1000   \n",
       "156     799864342     5  LSTM     91.85     100.00      15        1000   \n",
       "\n",
       "     layers  learning_rate  batch_size  \n",
       "0         1          0.001          64  \n",
       "1         1          0.001          64  \n",
       "2         1          0.001          64  \n",
       "3         1          0.001          64  \n",
       "4         1          0.001          64  \n",
       "..      ...            ...         ...  \n",
       "152       1          0.001          64  \n",
       "153       1          0.001          64  \n",
       "154       1          0.001          64  \n",
       "155       1          0.001          64  \n",
       "156       1          0.001          64  \n",
       "\n",
       "[157 rows x 10 columns]"
      ]
     },
     "execution_count": 42,
     "metadata": {},
     "output_type": "execute_result"
    }
   ],
   "source": [
    "import pandas as pd\n",
    "pd.read_csv('C:/Users/Ray/Coding/GitHub/Neuropixel-Analysis/output/3_shot_LSTM_per_mouse.csv')"
   ]
  },
  {
   "cell_type": "code",
   "execution_count": 43,
   "id": "1ffbad83-c8ca-4fdf-acff-94c8dcad946e",
   "metadata": {},
   "outputs": [
    {
     "data": {
      "image/png": "[encoded data removed]",
      "text/plain": [
       "<Figure size 1200x600 with 1 Axes>"
      ]
     },
     "metadata": {},
     "output_type": "display_data"
    }
   ],
   "source": [
    "# Create the bar plot\n",
    "plt.figure(figsize=(12, 6))  # Increase width by adjusting figsize\n",
    "bars = plt.bar(session_number.astype(str), test_acc, color='#4B9CD3')  # Carolina blue color code\n",
    "\n",
    "# Remove the x-axis label\n",
    "plt.gca().xaxis.set_label_text('')\n",
    "\n",
    "# Ensure y-axis ticks are correctly set\n",
    "plt.yticks(np.arange(0, 100+1, 10))\n",
    "\n",
    "# Set the y-axis label\n",
    "plt.ylabel('Test Accuracy (%)', fontsize=14)\n",
    "\n",
    "# Set the x-axis label\n",
    "plt.xlabel('Mouse Session', fontsize=14)\n",
    "\n",
    "# Adjust the plot to remove white space within the graph\n",
    "plt.xlim(-1, len(session_number))\n",
    "\n",
    "# Format y-axis ticks to show only to the hundredth decimal place\n",
    "plt.gca().yaxis.set_major_formatter(plt.FuncFormatter(lambda y, _: '{:.0f}'.format(y)))\n",
    "plt.gca().xaxis.set_major_formatter(plt.FuncFormatter(lambda x, _: ''.format(x)))\n",
    "\n",
    "# Add the actual accuracy above each bar\n",
    "for bar in bars:\n",
    "    height = bar.get_height()\n",
    "    plt.text(bar.get_x() + bar.get_width() / 2, height, f'{height:.0f}', ha='center', va='bottom')\n",
    "\n",
    "# Add title and subtitle with less space\n",
    "plt.suptitle('Highest Test Accuracy for Each Mouse', fontsize=16, y=0.95, x=.502)\n",
    "plt.title('Utilizing LSTM', fontsize=12, y=1.0, x = .5)\n",
    "\n",
    "# Show the plot\n",
    "plt.xticks(rotation=90)\n",
    "\n",
    "# Save the plot as a PNG file without border\n",
    "plt.savefig('highest_test_accuracy.png', format='png', bbox_inches='tight')\n",
    "\n",
    "# Display the plot\n",
    "plt.show()"
   ]
  },
  {
   "cell_type": "code",
   "execution_count": 44,
   "id": "d9f6fc20-2c90-4e51-8daa-86b1f66ffcb1",
   "metadata": {},
   "outputs": [
    {
     "data": {
      "image/png": "[encoded data removed]",
      "text/plain": [
       "<Figure size 1200x600 with 1 Axes>"
      ]
     },
     "metadata": {},
     "output_type": "display_data"
    }
   ],
   "source": [
    "# Create the bar plot\n",
    "plt.figure(figsize=(12, 6))  # Increase width by adjusting figsize\n",
    "bars = plt.bar(session_number.astype(str), test_acc, color='#4B9CD3')  # Carolina blue color code\n",
    "\n",
    "# Remove the x-axis label\n",
    "plt.gca().xaxis.set_label_text('')\n",
    "\n",
    "# Ensure y-axis ticks are correctly set\n",
    "plt.yticks(np.arange(0, 100+1, 10))\n",
    "\n",
    "# Set the y-axis label\n",
    "plt.ylabel('Test Accuracy (%)', fontsize=14)\n",
    "\n",
    "# Set the x-axis label\n",
    "plt.xlabel('Mouse Session', fontsize=14)\n",
    "\n",
    "# Adjust the plot to remove white space within the graph\n",
    "plt.xlim(-1, len(session_number))\n",
    "\n",
    "# Format y-axis ticks to show only to the hundredth decimal place\n",
    "plt.gca().yaxis.set_major_formatter(plt.FuncFormatter(lambda y, _: '{:.0f}'.format(y)))\n",
    "plt.gca().xaxis.set_major_formatter(plt.FuncFormatter(lambda x, _: ''.format(x)))\n",
    "\n",
    "# Add title and subtitle with less space\n",
    "plt.suptitle('Highest Test Accuracy for Each Mouse', fontsize=16, y=0.95, x=.502)\n",
    "plt.title('Utilizing LSTM', fontsize=12, y=1.0, x = .5)\n",
    "\n",
    "# Show the plot\n",
    "plt.xticks(rotation=90)\n",
    "\n",
    "# Save the plot as a PNG file without border\n",
    "plt.savefig('highest_test_accuracy_no_subs.png', format='png', bbox_inches='tight')\n",
    "\n",
    "# Display the plot\n",
    "plt.show()"
   ]
  },
  {
   "cell_type": "code",
   "execution_count": null,
   "id": "33fdcf96-cb21-4392-a036-073c317e483e",
   "metadata": {},
   "outputs": [],
   "source": []
  }
 ],
 "metadata": {
  "kernelspec": {
   "display_name": "Python 3 (ipykernel)",
   "language": "python",
   "name": "python3"
  },
  "language_info": {
   "codemirror_mode": {
    "name": "ipython",
    "version": 3
   },
   "file_extension": ".py",
   "mimetype": "text/x-python",
   "name": "python",
   "nbconvert_exporter": "python",
   "pygments_lexer": "ipython3",
   "version": "3.9.19"
  }
 },
 "nbformat": 4,
 "nbformat_minor": 5
}
